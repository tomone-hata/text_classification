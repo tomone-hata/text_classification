{
 "cells": [
  {
   "cell_type": "markdown",
   "metadata": {},
   "source": [
    "## 必要なモジュールのインストール"
   ]
  },
  {
   "cell_type": "code",
   "execution_count": 1,
   "metadata": {},
   "outputs": [],
   "source": [
    "import sys\n",
    "import os\n",
    "sys.path.append(os.pardir)\n",
    "import pandas as np\n",
    "import pickle\n",
    "import pandas as pd\n",
    "import numpy as np\n",
    "from tqdm import tqdm_notebook\n",
    "from utils import label_to_one_hot\n",
    "from utils import ComputeTfidf\n",
    "from sklearn.decomposition import TruncatedSVD"
   ]
  },
  {
   "cell_type": "markdown",
   "metadata": {},
   "source": [
    "## 学習/テストデータの読み込み"
   ]
  },
  {
   "cell_type": "code",
   "execution_count": 2,
   "metadata": {},
   "outputs": [],
   "source": [
    "with open('../data/train_data.pickle', 'rb') as rb:\n",
    "    train_data = pickle.load(rb)\n",
    "\n",
    "with open('../data/test_data.pickle', 'rb') as rb:\n",
    "    test_data = pickle.load(rb)"
   ]
  },
  {
   "cell_type": "markdown",
   "metadata": {},
   "source": [
    "### データ確認"
   ]
  },
  {
   "cell_type": "code",
   "execution_count": 3,
   "metadata": {},
   "outputs": [
    {
     "name": "stdout",
     "output_type": "stream",
     "text": [
      "train_data\n"
     ]
    },
    {
     "data": {
      "text/html": [
       "<div>\n",
       "<style scoped>\n",
       "    .dataframe tbody tr th:only-of-type {\n",
       "        vertical-align: middle;\n",
       "    }\n",
       "\n",
       "    .dataframe tbody tr th {\n",
       "        vertical-align: top;\n",
       "    }\n",
       "\n",
       "    .dataframe thead th {\n",
       "        text-align: right;\n",
       "    }\n",
       "</style>\n",
       "<table border=\"1\" class=\"dataframe\">\n",
       "  <thead>\n",
       "    <tr style=\"text-align: right;\">\n",
       "      <th></th>\n",
       "      <th>label</th>\n",
       "      <th>text</th>\n",
       "    </tr>\n",
       "  </thead>\n",
       "  <tbody>\n",
       "    <tr>\n",
       "      <th>0</th>\n",
       "      <td>本会議</td>\n",
       "      <td>会議 開く\\n本日 参議院 本 院 送付 テロ対策海上阻止活動に対する補給支援活動の実施に関...</td>\n",
       "    </tr>\n",
       "    <tr>\n",
       "      <th>1</th>\n",
       "      <td>総務委員会</td>\n",
       "      <td>会議 開く\\n行政 機構 運営 件 公務員 制度 給与 恩給 件 地方自治 地方税 財政 件...</td>\n",
       "    </tr>\n",
       "    <tr>\n",
       "      <th>2</th>\n",
       "      <td>議院運営委員会</td>\n",
       "      <td>会議 開く\\nまず 本日 参議院 テロ対策海上阻止活動に対する補給支援活動の実施に関する特別...</td>\n",
       "    </tr>\n",
       "    <tr>\n",
       "      <th>3</th>\n",
       "      <td>厚生労働委員会</td>\n",
       "      <td>会議 開く\\n谷垣禎一 君 提出 特定 フィブリノゲン製剤 特定 血液 凝固 第9 因子 製...</td>\n",
       "    </tr>\n",
       "    <tr>\n",
       "      <th>4</th>\n",
       "      <td>本会議</td>\n",
       "      <td>会議 開く\\n議案 上程 緊急 動議 提出 いたす\\n厚生 労働 委員長 提出 特定 フィブ...</td>\n",
       "    </tr>\n",
       "  </tbody>\n",
       "</table>\n",
       "</div>"
      ],
      "text/plain": [
       "     label                                               text\n",
       "0      本会議  会議 開く\\n本日 参議院 本 院 送付 テロ対策海上阻止活動に対する補給支援活動の実施に関...\n",
       "1    総務委員会  会議 開く\\n行政 機構 運営 件 公務員 制度 給与 恩給 件 地方自治 地方税 財政 件...\n",
       "2  議院運営委員会  会議 開く\\nまず 本日 参議院 テロ対策海上阻止活動に対する補給支援活動の実施に関する特別...\n",
       "3  厚生労働委員会  会議 開く\\n谷垣禎一 君 提出 特定 フィブリノゲン製剤 特定 血液 凝固 第9 因子 製...\n",
       "4      本会議  会議 開く\\n議案 上程 緊急 動議 提出 いたす\\n厚生 労働 委員長 提出 特定 フィブ..."
      ]
     },
     "metadata": {},
     "output_type": "display_data"
    },
    {
     "data": {
      "text/plain": [
       "議院運営委員会      1053\n",
       "本会議           985\n",
       "厚生労働委員会       644\n",
       "予算委員会         562\n",
       "総務委員会         531\n",
       "法務委員会         518\n",
       "国土交通委員会       505\n",
       "経済産業委員会       477\n",
       "内閣委員会         470\n",
       "農林水産委員会       431\n",
       "環境委員会         363\n",
       "財務金融委員会       267\n",
       "外務委員会         213\n",
       "文部科学委員会       210\n",
       "安全保障委員会       124\n",
       "決算行政監視委員会      90\n",
       "Name: label, dtype: int64"
      ]
     },
     "metadata": {},
     "output_type": "display_data"
    },
    {
     "name": "stdout",
     "output_type": "stream",
     "text": [
      "\n",
      "test_data\n"
     ]
    },
    {
     "data": {
      "text/html": [
       "<div>\n",
       "<style scoped>\n",
       "    .dataframe tbody tr th:only-of-type {\n",
       "        vertical-align: middle;\n",
       "    }\n",
       "\n",
       "    .dataframe tbody tr th {\n",
       "        vertical-align: top;\n",
       "    }\n",
       "\n",
       "    .dataframe thead th {\n",
       "        text-align: right;\n",
       "    }\n",
       "</style>\n",
       "<table border=\"1\" class=\"dataframe\">\n",
       "  <thead>\n",
       "    <tr style=\"text-align: right;\">\n",
       "      <th></th>\n",
       "      <th>label</th>\n",
       "      <th>text</th>\n",
       "    </tr>\n",
       "  </thead>\n",
       "  <tbody>\n",
       "    <tr>\n",
       "      <th>0</th>\n",
       "      <td>議院運営委員会</td>\n",
       "      <td>会議 開く\\nまず 庶務 小 委員長 報告 発言 求める られる おる 許す\\n石田真敏 君...</td>\n",
       "    </tr>\n",
       "    <tr>\n",
       "      <th>1</th>\n",
       "      <td>財務金融委員会</td>\n",
       "      <td>会議 開く\\n内閣 提出 所得税法 一部 改正 する 法律案 議題 いたす\\n諮る いたす\\...</td>\n",
       "    </tr>\n",
       "    <tr>\n",
       "      <th>2</th>\n",
       "      <td>内閣委員会</td>\n",
       "      <td>会議 開く\\n内閣 提出 特定 複合 観光施設 区域 整備 法案 議題 いたす\\n諮る いた...</td>\n",
       "    </tr>\n",
       "    <tr>\n",
       "      <th>3</th>\n",
       "      <td>文部科学委員会</td>\n",
       "      <td>会議 開く\\n内閣 提出 文化財保護法 地方教育行政の組織及び運営に関する法律 一部 改正 ...</td>\n",
       "    </tr>\n",
       "    <tr>\n",
       "      <th>4</th>\n",
       "      <td>安全保障委員会</td>\n",
       "      <td>会議 開く\\n安全保障 件 特に イラク 派遣 日報 調査 進める\\n防衛大臣 報告 聴取 ...</td>\n",
       "    </tr>\n",
       "  </tbody>\n",
       "</table>\n",
       "</div>"
      ],
      "text/plain": [
       "     label                                               text\n",
       "0  議院運営委員会  会議 開く\\nまず 庶務 小 委員長 報告 発言 求める られる おる 許す\\n石田真敏 君...\n",
       "1  財務金融委員会  会議 開く\\n内閣 提出 所得税法 一部 改正 する 法律案 議題 いたす\\n諮る いたす\\...\n",
       "2    内閣委員会  会議 開く\\n内閣 提出 特定 複合 観光施設 区域 整備 法案 議題 いたす\\n諮る いた...\n",
       "3  文部科学委員会  会議 開く\\n内閣 提出 文化財保護法 地方教育行政の組織及び運営に関する法律 一部 改正 ...\n",
       "4  安全保障委員会  会議 開く\\n安全保障 件 特に イラク 派遣 日報 調査 進める\\n防衛大臣 報告 聴取 ..."
      ]
     },
     "metadata": {},
     "output_type": "display_data"
    },
    {
     "data": {
      "text/plain": [
       "議院運営委員会      124\n",
       "本会議          105\n",
       "厚生労働委員会       81\n",
       "内閣委員会         76\n",
       "農林水産委員会       69\n",
       "法務委員会         63\n",
       "国土交通委員会       56\n",
       "予算委員会         55\n",
       "経済産業委員会       38\n",
       "総務委員会         36\n",
       "環境委員会         32\n",
       "文部科学委員会       26\n",
       "外務委員会         22\n",
       "財務金融委員会       20\n",
       "安全保障委員会       14\n",
       "決算行政監視委員会      5\n",
       "Name: label, dtype: int64"
      ]
     },
     "metadata": {},
     "output_type": "display_data"
    }
   ],
   "source": [
    "df_train = pd.DataFrame(train_data, columns=['label', 'text'])\n",
    "df_test = pd.DataFrame(test_data, columns=['label', 'text'])\n",
    "\n",
    "print('train_data')\n",
    "display(df_train.head())\n",
    "display(df_train['label'].value_counts())\n",
    "print()\n",
    "print('test_data')\n",
    "display(df_test.head())\n",
    "display(df_test['label'].value_counts())"
   ]
  },
  {
   "cell_type": "markdown",
   "metadata": {},
   "source": [
    "### ラベルとテキストに分割"
   ]
  },
  {
   "cell_type": "code",
   "execution_count": 4,
   "metadata": {},
   "outputs": [
    {
     "name": "stdout",
     "output_type": "stream",
     "text": [
      "train_size: 7443\n",
      "test_size: 822\n"
     ]
    }
   ],
   "source": [
    "x_train_text = [x[1] for x in train_data]\n",
    "y_train = [x[0] for x in train_data]\n",
    "x_test_text = [x[1] for x in test_data]\n",
    "y_test = [x[0] for x in test_data]\n",
    "\n",
    "#テキストにてtf-idfモデルを行う都合上、テキストを統合する。\n",
    "train_size, test_size = len(x_train_text), len(x_test_text)\n",
    "print('train_size: %i' % train_size)\n",
    "print('test_size: %i' % test_size)\n",
    "x_corpus = x_train_text + x_test_text"
   ]
  },
  {
   "cell_type": "markdown",
   "metadata": {},
   "source": [
    "## テキストをベクトルに変換する\n",
    "tf-idfを用いた変換を実施する。プログラムについてはutilsに記述したプログラムを呼び出して用いる。  \n",
    "ここではsklearnのCountVectorizer、TfidfTransformerを用いてtf-idfを計算している。  \n",
    "今回は一つの会議の全発言を文書単位としてtf-idf値を算出した。  \n",
    "\n",
    "ここでsklearnのtf-idf値の算出ロジックについて言及する。  \n",
    "tf-idf値はtfとidf値の積で計算され、文書数$ \\times $コーパスを構成する単語数の行列で行成される。  \n",
    "いま全体のコーパスを$ D $、コーパスを構成する文書を$ d_{i} $、文書に含まれる単語を$ t_{j} $とする。  \n",
    "いまコーパスの文書数を$ m $、文書に含まれる単語数を$ n $とすると、コーパス$ D $は\n",
    "$$\n",
    "D: \\{ d_{1}, d_{2},...,d_{m} \\} \\\\\n",
    "D: \\{ t_{1}, t_{2},...,t_{n} \\}\n",
    "$$\n",
    "とかける。\n",
    "\n",
    "tf値は文書ごとの単語の構成割合である。$ d_{i} $が$p$種類の単語$ t_{i1}, t_{i2}, ..., t_{ip} $で構成されているとき(ただしそれぞれの単語は2個以上存在することもありうる)、\n",
    "$$\n",
    " \\textrm{tf}_{i, j} = \\frac{|t_{ij}|}{\\sum_{l=1}^{p} |t_{il}|}\n",
    "$$\n",
    "である。ただし$ | \\cdot | $は$  \\cdot  $の要素の個数となる。  \n",
    "idf値は単語の文書の出現割合から算出される。単語$ t_{j} $のidf値は\n",
    "$$\n",
    "\\textrm{idf}_{j} = \\log \\left(  \\frac{m+1}{|\\{ d: d \\ni t_{j}  \\} | + 1} \\right)\n",
    "$$\n",
    "\n",
    "ただし$|\\{ d: d \\ni t_{j}  \\} |$は単語jが含まれる文書の数である。よって$\\textrm{tfidf}_{i,j}$は\n",
    "$$\n",
    "\\textrm{tfidf}_{i,j} = \\textrm{tf}_{i, j} \\times \\textrm{idf}_{j}\n",
    "$$\n",
    "となる。\n",
    "TfidfTransformerを用いた場合文書数$ \\times$単語数$ \\left( m \\times n \\right)$の行列\n",
    "$$\n",
    "\\left(\n",
    "\\begin{array}{cccc}\n",
    "\\textrm{tfidf}_{1,1} & \\textrm{tfidf}_{1,2} & ... & \\textrm{tfidf}_{1,n} \\\\\n",
    "\\textrm{tfidf}_{2,1} & \\textrm{tfidf}_{2,2} & ... & \\textrm{tfidf}_{2,n} \\\\\n",
    "... \\\\\n",
    "\\textrm{tfidf}_{m,1} & \\textrm{tfidf}_{m,2} & ... & \\textrm{tfidf}_{m,n} \\\\\n",
    "\\end{array}\n",
    "\\right)\n",
    "$$\n",
    "で算出される。また算出結果は列ごとに規格化されて出力される。\n",
    "$$\n",
    " \\sqrt{\\sum_{j=1}^{n} \\textrm{tfidf}_{i,j}^2 } = 1\n",
    "$$"
   ]
  },
  {
   "cell_type": "code",
   "execution_count": 5,
   "metadata": {},
   "outputs": [],
   "source": [
    "ct = ComputeTfidf(x_corpus)"
   ]
  },
  {
   "cell_type": "code",
   "execution_count": 6,
   "metadata": {
    "scrolled": false
   },
   "outputs": [
    {
     "name": "stdout",
     "output_type": "stream",
     "text": [
      "(8265, 150053)\n"
     ]
    }
   ],
   "source": [
    "ct.compute_tf()\n",
    "text_tfidf = ct.compute_tfidf()\n",
    "print(text_tfidf.shape)"
   ]
  },
  {
   "cell_type": "markdown",
   "metadata": {},
   "source": [
    "## 特異値分解(SVD)による次元圧縮\n",
    "上記で求めたtfidf値を次元圧縮する"
   ]
  },
  {
   "cell_type": "code",
   "execution_count": 7,
   "metadata": {},
   "outputs": [],
   "source": [
    "svd = TruncatedSVD(n_components=2048, n_iter=5)\n",
    "svd.fit(text_tfidf)\n",
    "text_tfidf_svd = svd.fit_transform(text_tfidf)"
   ]
  },
  {
   "cell_type": "code",
   "execution_count": 8,
   "metadata": {},
   "outputs": [
    {
     "name": "stdout",
     "output_type": "stream",
     "text": [
      "(8265, 2048)\n",
      "寄与率 0.889716\n"
     ]
    },
    {
     "data": {
      "text/plain": [
       "array([1.03423309e-01, 7.01510859e-02, 3.23799627e-02, ...,\n",
       "       5.24560759e-05, 5.24401771e-05, 5.23903279e-05])"
      ]
     },
     "execution_count": 8,
     "metadata": {},
     "output_type": "execute_result"
    }
   ],
   "source": [
    "print(text_tfidf_svd.shape)\n",
    "print('寄与率 %f' % np.sum(svd.explained_variance_ratio_))\n",
    "svd.explained_variance_ratio_"
   ]
  },
  {
   "cell_type": "markdown",
   "metadata": {},
   "source": [
    "### 学習用ファイルとテスト用ファイルに分解する"
   ]
  },
  {
   "cell_type": "code",
   "execution_count": 9,
   "metadata": {},
   "outputs": [
    {
     "name": "stdout",
     "output_type": "stream",
     "text": [
      "7443\n",
      "822\n"
     ]
    }
   ],
   "source": [
    "x_train = text_tfidf_svd[:train_size,:]\n",
    "x_test = text_tfidf_svd[train_size:,:]\n",
    "print(len(x_train))\n",
    "print(len(x_test))"
   ]
  },
  {
   "cell_type": "markdown",
   "metadata": {},
   "source": [
    "## ラベルをIDに置き換える\n",
    "今回分析対象の委員会を以下の通り通し番号をつける。\n",
    "\n",
    "|委員会 |番号|\n",
    "|---|---|\n",
    "|本会議|0|\n",
    "|内閣委員会|1|\n",
    "|総務委員会|2|\n",
    "|法務委員会|3|\n",
    "|外務委員会|4|\n",
    "|財務金融委員会|5|\n",
    "|文部科学委員会|6|\n",
    "|厚生労働委員会|7|\n",
    "|農林水産委員会|8|\n",
    "|経済産業委員会|9|\n",
    "|国土交通委員会|10|\n",
    "|環境委員会|11|\n",
    "|安全保障委員会|12|\n",
    "|予算委員会|13|\n",
    "|決算行政監視委員会|14|\n",
    "|議院運営委員会|15|\n",
    "\n"
   ]
  },
  {
   "cell_type": "code",
   "execution_count": 10,
   "metadata": {
    "scrolled": true
   },
   "outputs": [
    {
     "data": {
      "application/vnd.jupyter.widget-view+json": {
       "model_id": "a002f7a3873b4d2498449f9655f4beff",
       "version_major": 2,
       "version_minor": 0
      },
      "text/plain": [
       "HBox(children=(IntProgress(value=0, max=7443), HTML(value='')))"
      ]
     },
     "metadata": {},
     "output_type": "display_data"
    },
    {
     "name": "stdout",
     "output_type": "stream",
     "text": [
      "\n"
     ]
    },
    {
     "data": {
      "application/vnd.jupyter.widget-view+json": {
       "model_id": "60eb702027af4f5d894b5ca1f1551a56",
       "version_major": 2,
       "version_minor": 0
      },
      "text/plain": [
       "HBox(children=(IntProgress(value=0, max=822), HTML(value='')))"
      ]
     },
     "metadata": {},
     "output_type": "display_data"
    },
    {
     "name": "stdout",
     "output_type": "stream",
     "text": [
      "\n"
     ]
    },
    {
     "data": {
      "text/plain": [
       "array([ 0,  2, 15, ...,  8,  3, 15])"
      ]
     },
     "execution_count": 10,
     "metadata": {},
     "output_type": "execute_result"
    }
   ],
   "source": [
    "classify_dict = {'本会議':0, '内閣委員会':1, '総務委員会':2, '法務委員会':3, '外務委員会':4, '財務金融委員会':5, '文部科学委員会':6, '厚生労働委員会':7, '農林水産委員会':8, \\\n",
    "                '経済産業委員会':9, '国土交通委員会':10, '環境委員会':11, '安全保障委員会':12, '予算委員会':13, '決算行政監視委員会':14, '議院運営委員会':15}\n",
    "classify_size = len(classify_dict)\n",
    "y_train = np.array([classify_dict[x] for x in tqdm_notebook(y_train)])\n",
    "y_test = np.array([classify_dict[x] for x in tqdm_notebook(y_test)])\n",
    "\n",
    "y_train"
   ]
  },
  {
   "cell_type": "markdown",
   "metadata": {},
   "source": [
    "## クラスの重みを算出する\n",
    "分析対象の委員会のデータ数のばらつきが大きいため、少ないクラス(委員会)の学習時のコストを大きくする。"
   ]
  },
  {
   "cell_type": "code",
   "execution_count": 11,
   "metadata": {},
   "outputs": [
    {
     "data": {
      "text/plain": [
       "{0: 1.069035532994924,\n",
       " 1: 2.2404255319148936,\n",
       " 2: 1.983050847457627,\n",
       " 3: 2.032818532818533,\n",
       " 4: 4.943661971830986,\n",
       " 5: 3.943820224719101,\n",
       " 6: 5.014285714285715,\n",
       " 7: 1.6350931677018632,\n",
       " 8: 2.4431554524361947,\n",
       " 9: 2.207547169811321,\n",
       " 10: 2.0851485148514852,\n",
       " 11: 2.9008264462809916,\n",
       " 12: 8.491935483870968,\n",
       " 13: 1.873665480427046,\n",
       " 14: 11.700000000000001,\n",
       " 15: 1.0}"
      ]
     },
     "execution_count": 11,
     "metadata": {},
     "output_type": "execute_result"
    }
   ],
   "source": [
    "labels = np.arange(16)\n",
    "cost_weight = np.zeros((16))\n",
    "for label in labels:\n",
    "    cnt = np.sum(y_train==label)\n",
    "    cost_weight[label] = cnt\n",
    "\n",
    "max_cnt = np.max(cost_weight)\n",
    "cost_weight= np.reciprocal(cost_weight) * max_cnt\n",
    "cost_weight = {int(label):cost_weight[label] for label in labels}\n",
    "cost_weight"
   ]
  },
  {
   "cell_type": "markdown",
   "metadata": {},
   "source": [
    "### One-hotベクトルの作成\n",
    "上記通し番号に沿って、one-hotベクトルに変換する。以下に法務委員会の場合のone-hotベクトルを示す。\n",
    "$$\n",
    "\\left(\\begin{array}{c}\n",
    "            0 \\\\\n",
    "            0 \\\\\n",
    "            0 \\\\\n",
    "            1 \\\\\n",
    "            0 \\\\\n",
    "            ... \\\\\n",
    "            0 \\\\\n",
    "        \\end{array}\\right) \\quad\n",
    "$$"
   ]
  },
  {
   "cell_type": "code",
   "execution_count": 12,
   "metadata": {},
   "outputs": [
    {
     "data": {
      "application/vnd.jupyter.widget-view+json": {
       "model_id": "f7df55f68c4f4892aff84c5571d52c44",
       "version_major": 2,
       "version_minor": 0
      },
      "text/plain": [
       "HBox(children=(IntProgress(value=0, max=7443), HTML(value='')))"
      ]
     },
     "metadata": {},
     "output_type": "display_data"
    },
    {
     "name": "stdout",
     "output_type": "stream",
     "text": [
      "\n"
     ]
    },
    {
     "data": {
      "application/vnd.jupyter.widget-view+json": {
       "model_id": "f8df800288334bedbc0cb5f2967ad7ba",
       "version_major": 2,
       "version_minor": 0
      },
      "text/plain": [
       "HBox(children=(IntProgress(value=0, max=822), HTML(value='')))"
      ]
     },
     "metadata": {},
     "output_type": "display_data"
    },
    {
     "name": "stdout",
     "output_type": "stream",
     "text": [
      "\n"
     ]
    }
   ],
   "source": [
    "classify_size = len(classify_dict)\n",
    "y_train = np.array([label_to_one_hot(classify_size, x) for x in tqdm_notebook(y_train)])\n",
    "y_test = np.array([label_to_one_hot(classify_size ,x) for x in tqdm_notebook(y_test)])"
   ]
  },
  {
   "cell_type": "code",
   "execution_count": 13,
   "metadata": {},
   "outputs": [
    {
     "data": {
      "text/plain": [
       "array([[1, 0, 0, ..., 0, 0, 0],\n",
       "       [0, 0, 1, ..., 0, 0, 0],\n",
       "       [0, 0, 0, ..., 0, 0, 1],\n",
       "       ...,\n",
       "       [0, 0, 0, ..., 0, 0, 0],\n",
       "       [0, 0, 0, ..., 0, 0, 0],\n",
       "       [0, 0, 0, ..., 0, 0, 1]])"
      ]
     },
     "execution_count": 13,
     "metadata": {},
     "output_type": "execute_result"
    }
   ],
   "source": [
    "y_train"
   ]
  },
  {
   "cell_type": "code",
   "execution_count": 14,
   "metadata": {},
   "outputs": [],
   "source": [
    "with open('train_data.pickle', 'wb') as wb:\n",
    "    pickle.dump((x_train, y_train), wb)\n",
    "    \n",
    "with open('test_data.pickle', 'wb') as wb:\n",
    "    pickle.dump((x_test, y_test), wb)\n",
    "    \n",
    "with open('cost_weight.pickle', 'wb') as wb:\n",
    "    pickle.dump(cost_weight, wb)"
   ]
  },
  {
   "cell_type": "code",
   "execution_count": null,
   "metadata": {},
   "outputs": [],
   "source": []
  }
 ],
 "metadata": {
  "kernelspec": {
   "display_name": "Python 3",
   "language": "python",
   "name": "python3"
  },
  "language_info": {
   "codemirror_mode": {
    "name": "ipython",
    "version": 3
   },
   "file_extension": ".py",
   "mimetype": "text/x-python",
   "name": "python",
   "nbconvert_exporter": "python",
   "pygments_lexer": "ipython3",
   "version": "3.6.5"
  }
 },
 "nbformat": 4,
 "nbformat_minor": 2
}
