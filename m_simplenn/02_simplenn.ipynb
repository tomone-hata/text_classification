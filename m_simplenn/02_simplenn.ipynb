{
 "cells": [
  {
   "cell_type": "code",
   "execution_count": 1,
   "metadata": {},
   "outputs": [
    {
     "name": "stderr",
     "output_type": "stream",
     "text": [
      "Using TensorFlow backend.\n"
     ]
    }
   ],
   "source": [
    "from simplenn import Simplenn\n",
    "import pickle\n",
    "import numpy as np"
   ]
  },
  {
   "cell_type": "markdown",
   "metadata": {},
   "source": [
    "## モデルの作成\n"
   ]
  },
  {
   "cell_type": "code",
   "execution_count": 2,
   "metadata": {},
   "outputs": [],
   "source": [
    "x_train, y_train = None, None\n",
    "with open('train_data.pickle', 'rb') as rb:\n",
    "    x_train, y_train = pickle.load(rb)\n",
    "\n",
    "x_test, y_test = None, None\n",
    "with open('test_data.pickle', 'rb') as rb:\n",
    "    x_test, y_test = pickle.load(rb)"
   ]
  },
  {
   "cell_type": "code",
   "execution_count": 3,
   "metadata": {
    "scrolled": true
   },
   "outputs": [
    {
     "name": "stdout",
     "output_type": "stream",
     "text": [
      "Start to building a neural network.\n",
      "WARNING:tensorflow:From /Users/tomone_hata/.pyenv/versions/3.6.5/lib/python3.6/site-packages/tensorflow/python/framework/op_def_library.py:263: colocate_with (from tensorflow.python.framework.ops) is deprecated and will be removed in a future version.\n",
      "Instructions for updating:\n",
      "Colocations handled automatically by placer.\n",
      "WARNING:tensorflow:From /Users/tomone_hata/.pyenv/versions/3.6.5/lib/python3.6/site-packages/keras/backend/tensorflow_backend.py:3445: calling dropout (from tensorflow.python.ops.nn_ops) with keep_prob is deprecated and will be removed in a future version.\n",
      "Instructions for updating:\n",
      "Please use `rate` instead of `keep_prob`. Rate should be set to `rate = 1 - keep_prob`.\n",
      "Scucceeded in building a neural network.\n"
     ]
    }
   ],
   "source": [
    "x_dim = 200\n",
    "n_classes = 16\n",
    "snn = Simplenn(x_dim, n_classes, hidden_size=[512,256], batch_size=64, learning_rate=0.001, epochs=20, random_seed=None)"
   ]
  },
  {
   "cell_type": "code",
   "execution_count": 4,
   "metadata": {},
   "outputs": [
    {
     "name": "stdout",
     "output_type": "stream",
     "text": [
      "7443\n",
      "Train size        : 745\n",
      "Validation size:  745\n",
      "Start to train.\n",
      "WARNING:tensorflow:From /Users/tomone_hata/.pyenv/versions/3.6.5/lib/python3.6/site-packages/tensorflow/python/ops/math_ops.py:3066: to_int32 (from tensorflow.python.ops.math_ops) is deprecated and will be removed in a future version.\n",
      "Instructions for updating:\n",
      "Use tf.cast instead.\n",
      "Train on 745 samples, validate on 745 samples\n",
      "Epoch 1/20\n",
      "745/745 [==============================] - 0s 435us/step - loss: 2.3362 - acc: 0.2336 - val_loss: 1.9783 - val_acc: 0.3154\n",
      "Epoch 2/20\n",
      "745/745 [==============================] - 0s 79us/step - loss: 1.9635 - acc: 0.3584 - val_loss: 1.7557 - val_acc: 0.4577\n",
      "Epoch 3/20\n",
      "745/745 [==============================] - 0s 80us/step - loss: 1.8106 - acc: 0.4148 - val_loss: 1.5956 - val_acc: 0.6188\n",
      "Epoch 4/20\n",
      "745/745 [==============================] - 0s 82us/step - loss: 1.6754 - acc: 0.4416 - val_loss: 1.4496 - val_acc: 0.6309\n",
      "Epoch 5/20\n",
      "745/745 [==============================] - 0s 81us/step - loss: 1.5406 - acc: 0.4886 - val_loss: 1.3427 - val_acc: 0.6685\n",
      "Epoch 6/20\n",
      "745/745 [==============================] - 0s 77us/step - loss: 1.4408 - acc: 0.5423 - val_loss: 1.2460 - val_acc: 0.6832\n",
      "Epoch 7/20\n",
      "745/745 [==============================] - 0s 78us/step - loss: 1.3375 - acc: 0.5758 - val_loss: 1.1361 - val_acc: 0.7141\n",
      "Epoch 8/20\n",
      "745/745 [==============================] - 0s 78us/step - loss: 1.2741 - acc: 0.5933 - val_loss: 1.0817 - val_acc: 0.7047\n",
      "Epoch 9/20\n",
      "745/745 [==============================] - 0s 78us/step - loss: 1.1599 - acc: 0.6416 - val_loss: 0.9497 - val_acc: 0.7678\n",
      "Epoch 10/20\n",
      "745/745 [==============================] - 0s 84us/step - loss: 1.0989 - acc: 0.6470 - val_loss: 0.8692 - val_acc: 0.7745\n",
      "Epoch 11/20\n",
      "745/745 [==============================] - 0s 126us/step - loss: 1.0217 - acc: 0.6859 - val_loss: 0.8235 - val_acc: 0.7919\n",
      "Epoch 12/20\n",
      "745/745 [==============================] - 0s 132us/step - loss: 0.9414 - acc: 0.7181 - val_loss: 0.7452 - val_acc: 0.8255\n",
      "Epoch 13/20\n",
      "745/745 [==============================] - 0s 118us/step - loss: 0.8847 - acc: 0.7356 - val_loss: 0.8702 - val_acc: 0.7060\n",
      "Epoch 14/20\n",
      "745/745 [==============================] - 0s 116us/step - loss: 0.8677 - acc: 0.7114 - val_loss: 0.6920 - val_acc: 0.8040\n",
      "Epoch 15/20\n",
      "745/745 [==============================] - 0s 98us/step - loss: 0.8299 - acc: 0.7624 - val_loss: 0.6279 - val_acc: 0.8309\n",
      "Epoch 16/20\n",
      "745/745 [==============================] - 0s 89us/step - loss: 0.7831 - acc: 0.7678 - val_loss: 0.6258 - val_acc: 0.8255\n",
      "Epoch 17/20\n",
      "745/745 [==============================] - 0s 134us/step - loss: 0.7433 - acc: 0.7772 - val_loss: 0.5840 - val_acc: 0.8456\n",
      "Epoch 18/20\n",
      "745/745 [==============================] - 0s 130us/step - loss: 0.6932 - acc: 0.7946 - val_loss: 0.5481 - val_acc: 0.8497\n",
      "Epoch 19/20\n",
      "745/745 [==============================] - 0s 154us/step - loss: 0.7270 - acc: 0.7624 - val_loss: 0.5388 - val_acc: 0.8591\n",
      "Epoch 20/20\n",
      "745/745 [==============================] - 0s 115us/step - loss: 0.6816 - acc: 0.7758 - val_loss: 0.5149 - val_acc: 0.8456\n",
      "Scucceeded in training.\n"
     ]
    }
   ],
   "source": [
    "train_size = int(len(x_train)  * 0.9)\n",
    "print(len(x_train))\n",
    "x_valid, y_valid = x_train[train_size:], y_train[train_size:]\n",
    "x_train, y_train = x_train[train_size:], y_train[train_size:]\n",
    "print('Train size        : %i' % len(y_train))\n",
    "print('Validation size:  %i' % len(y_valid))\n",
    "snn.train(x_train, y_train, x_valid, y_valid)"
   ]
  },
  {
   "cell_type": "code",
   "execution_count": 5,
   "metadata": {},
   "outputs": [
    {
     "name": "stdout",
     "output_type": "stream",
     "text": [
      "Start to test.\n",
      "Test loss: 1.8818430131949357\n",
      "Test accuracy: 0.6155717755756239\n",
      "Finish to test.\n"
     ]
    }
   ],
   "source": [
    "snn.test( x_test, y_test)"
   ]
  },
  {
   "cell_type": "code",
   "execution_count": null,
   "metadata": {},
   "outputs": [],
   "source": []
  }
 ],
 "metadata": {
  "kernelspec": {
   "display_name": "Python 3",
   "language": "python",
   "name": "python3"
  },
  "language_info": {
   "codemirror_mode": {
    "name": "ipython",
    "version": 3
   },
   "file_extension": ".py",
   "mimetype": "text/x-python",
   "name": "python",
   "nbconvert_exporter": "python",
   "pygments_lexer": "ipython3",
   "version": "3.6.5"
  }
 },
 "nbformat": 4,
 "nbformat_minor": 2
}
