{
 "cells": [
  {
   "cell_type": "code",
   "execution_count": null,
   "metadata": {},
   "outputs": [],
   "source": [
    "from simplenn import Simplenn\n",
    "import pickle\n",
    "import numpy as np\n",
    "import pandas as pd"
   ]
  },
  {
   "cell_type": "markdown",
   "metadata": {},
   "source": [
    "## 学習データ・テストデータの読み込み"
   ]
  },
  {
   "cell_type": "code",
   "execution_count": null,
   "metadata": {},
   "outputs": [],
   "source": [
    "x_train, y_train = None, None\n",
    "with open('train_data.pickle', 'rb') as rb:\n",
    "    x_train, y_train = pickle.load(rb)\n",
    "\n",
    "x_test, y_test = None, None\n",
    "with open('test_data.pickle', 'rb') as rb:\n",
    "    x_test, y_test = pickle.load(rb)"
   ]
  },
  {
   "cell_type": "markdown",
   "metadata": {},
   "source": [
    "## 学習モデルの読み込み"
   ]
  },
  {
   "cell_type": "code",
   "execution_count": null,
   "metadata": {},
   "outputs": [],
   "source": [
    "x_dim = 200\n",
    "n_classes = 16\n",
    "snn = Simplenn(x_dim, n_classes, hidden_size=[512,256], batch_size=64, learning_rate=0.001, epochs=20, random_seed=None)"
   ]
  },
  {
   "cell_type": "markdown",
   "metadata": {},
   "source": [
    "## 学習の開始"
   ]
  },
  {
   "cell_type": "code",
   "execution_count": null,
   "metadata": {},
   "outputs": [],
   "source": [
    "train_size = int(len(x_train)  * 0.9)\n",
    "x_valid, y_valid = x_train[train_size:], y_train[train_size:]\n",
    "x_train, y_train = x_train[train_size:], y_train[train_size:]\n",
    "print('Train size        : %i' % len(y_train))\n",
    "print('Validation size:  %i' % len(y_valid))\n",
    "snn.train(x_train, y_train, x_valid, y_valid)"
   ]
  },
  {
   "cell_type": "markdown",
   "metadata": {},
   "source": [
    "## 検証"
   ]
  },
  {
   "cell_type": "code",
   "execution_count": null,
   "metadata": {},
   "outputs": [],
   "source": [
    "snn.test( x_test, y_test)"
   ]
  },
  {
   "cell_type": "code",
   "execution_count": null,
   "metadata": {},
   "outputs": [],
   "source": [
    "result = np.zeros((16,16))\n",
    "y_actually = np.argmax(y_test, axis=1)\n",
    "y_predict = np.argmax(snn.model.predict(x_test), axis=1)\n",
    "for i in range(len(y_train)):\n",
    "    result[y_actually[i], y_predict[i]] += 1\n",
    "result.astype(int)"
   ]
  },
  {
   "cell_type": "markdown",
   "metadata": {},
   "source": [
    "## 結果の評価"
   ]
  },
  {
   "cell_type": "code",
   "execution_count": null,
   "metadata": {},
   "outputs": [],
   "source": [
    "y_test[1]"
   ]
  },
  {
   "cell_type": "code",
   "execution_count": null,
   "metadata": {},
   "outputs": [],
   "source": [
    "classify_dict = {'本会議':0, '内閣委員会':1, '総務委員会':2, '法務委員会':3, '外務委員会':4, '財務金融委員会':5, '文部科学委員会':6, '厚生労働委員会':7, '農林水産委員会':8, \\\n",
    "                '経済産業委員会':9, '国土交通委員会':10, '環境委員会':11, '安全保障委員会':12, '予算委員会':13, '決算行政監視委員会':14, '議院運営委員会':15}\n",
    "classify_dict = {val:key for key, val in classify_dict.items()}\n",
    "predict_ = ['predict: %s' % classify_dict[i] for i in range(len(classify_dict))]\n",
    "actually_ = ['actually: %s' % classify_dict[i] for i in range(len(classify_dict))]\n",
    "pd.DataFrame(result, index=actually_, columns= predict_)"
   ]
  },
  {
   "cell_type": "code",
   "execution_count": null,
   "metadata": {},
   "outputs": [],
   "source": []
  }
 ],
 "metadata": {
  "kernelspec": {
   "display_name": "Python 3",
   "language": "python",
   "name": "python3"
  },
  "language_info": {
   "codemirror_mode": {
    "name": "ipython",
    "version": 3
   },
   "file_extension": ".py",
   "mimetype": "text/x-python",
   "name": "python",
   "nbconvert_exporter": "python",
   "pygments_lexer": "ipython3",
   "version": "3.6.5"
  }
 },
 "nbformat": 4,
 "nbformat_minor": 2
}
