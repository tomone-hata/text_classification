{
 "cells": [
  {
   "cell_type": "code",
   "execution_count": 1,
   "metadata": {},
   "outputs": [
    {
     "name": "stderr",
     "output_type": "stream",
     "text": [
      "Using TensorFlow backend.\n"
     ]
    }
   ],
   "source": [
    "import sys\n",
    "import os\n",
    "sys.path.append(os.pardir)\n",
    "import numpy as np\n",
    "import pickle\n",
    "import pandas as pd\n",
    "import re\n",
    "#from gensim.models import word2vec\n",
    "import copy\n",
    "from tqdm import tqdm_notebook\n",
    "from utils import label_to_one_hot, MeasurementStatistics, PreprocessCNN"
   ]
  },
  {
   "cell_type": "code",
   "execution_count": 2,
   "metadata": {},
   "outputs": [],
   "source": [
    "with open('../data/train_data.pickle', 'rb') as rb:\n",
    "    train_data = pickle.load(rb)\n",
    "\n",
    "with open('../data/test_data.pickle', 'rb') as rb:\n",
    "    test_data = pickle.load(rb)"
   ]
  },
  {
   "cell_type": "code",
   "execution_count": 3,
   "metadata": {},
   "outputs": [
    {
     "name": "stdout",
     "output_type": "stream",
     "text": [
      "train_data\n"
     ]
    },
    {
     "data": {
      "text/html": [
       "<div>\n",
       "<style scoped>\n",
       "    .dataframe tbody tr th:only-of-type {\n",
       "        vertical-align: middle;\n",
       "    }\n",
       "\n",
       "    .dataframe tbody tr th {\n",
       "        vertical-align: top;\n",
       "    }\n",
       "\n",
       "    .dataframe thead th {\n",
       "        text-align: right;\n",
       "    }\n",
       "</style>\n",
       "<table border=\"1\" class=\"dataframe\">\n",
       "  <thead>\n",
       "    <tr style=\"text-align: right;\">\n",
       "      <th></th>\n",
       "      <th>label</th>\n",
       "      <th>text</th>\n",
       "    </tr>\n",
       "  </thead>\n",
       "  <tbody>\n",
       "    <tr>\n",
       "      <th>0</th>\n",
       "      <td>本会議</td>\n",
       "      <td>会議 開く\\n本日 参議院 本 院 送付 テロ対策海上阻止活動に対する補給支援活動の実施に関...</td>\n",
       "    </tr>\n",
       "    <tr>\n",
       "      <th>1</th>\n",
       "      <td>総務委員会</td>\n",
       "      <td>会議 開く\\n行政 機構 運営 件 公務員 制度 給与 恩給 件 地方自治 地方税 財政 件...</td>\n",
       "    </tr>\n",
       "    <tr>\n",
       "      <th>2</th>\n",
       "      <td>議院運営委員会</td>\n",
       "      <td>会議 開く\\nまず 本日 参議院 テロ対策海上阻止活動に対する補給支援活動の実施に関する特別...</td>\n",
       "    </tr>\n",
       "    <tr>\n",
       "      <th>3</th>\n",
       "      <td>厚生労働委員会</td>\n",
       "      <td>会議 開く\\n谷垣禎一 君 提出 特定 フィブリノゲン製剤 特定 血液 凝固 第9 因子 製...</td>\n",
       "    </tr>\n",
       "    <tr>\n",
       "      <th>4</th>\n",
       "      <td>本会議</td>\n",
       "      <td>会議 開く\\n議案 上程 緊急 動議 提出 いたす\\n厚生 労働 委員長 提出 特定 フィブ...</td>\n",
       "    </tr>\n",
       "  </tbody>\n",
       "</table>\n",
       "</div>"
      ],
      "text/plain": [
       "     label                                               text\n",
       "0      本会議  会議 開く\\n本日 参議院 本 院 送付 テロ対策海上阻止活動に対する補給支援活動の実施に関...\n",
       "1    総務委員会  会議 開く\\n行政 機構 運営 件 公務員 制度 給与 恩給 件 地方自治 地方税 財政 件...\n",
       "2  議院運営委員会  会議 開く\\nまず 本日 参議院 テロ対策海上阻止活動に対する補給支援活動の実施に関する特別...\n",
       "3  厚生労働委員会  会議 開く\\n谷垣禎一 君 提出 特定 フィブリノゲン製剤 特定 血液 凝固 第9 因子 製...\n",
       "4      本会議  会議 開く\\n議案 上程 緊急 動議 提出 いたす\\n厚生 労働 委員長 提出 特定 フィブ..."
      ]
     },
     "metadata": {},
     "output_type": "display_data"
    },
    {
     "data": {
      "text/plain": [
       "議院運営委員会      1053\n",
       "本会議           985\n",
       "厚生労働委員会       644\n",
       "予算委員会         562\n",
       "総務委員会         531\n",
       "法務委員会         518\n",
       "国土交通委員会       505\n",
       "経済産業委員会       477\n",
       "内閣委員会         470\n",
       "農林水産委員会       431\n",
       "環境委員会         363\n",
       "財務金融委員会       267\n",
       "外務委員会         213\n",
       "文部科学委員会       210\n",
       "安全保障委員会       124\n",
       "決算行政監視委員会      90\n",
       "Name: label, dtype: int64"
      ]
     },
     "metadata": {},
     "output_type": "display_data"
    },
    {
     "name": "stdout",
     "output_type": "stream",
     "text": [
      "\n",
      "test_data\n"
     ]
    },
    {
     "data": {
      "text/html": [
       "<div>\n",
       "<style scoped>\n",
       "    .dataframe tbody tr th:only-of-type {\n",
       "        vertical-align: middle;\n",
       "    }\n",
       "\n",
       "    .dataframe tbody tr th {\n",
       "        vertical-align: top;\n",
       "    }\n",
       "\n",
       "    .dataframe thead th {\n",
       "        text-align: right;\n",
       "    }\n",
       "</style>\n",
       "<table border=\"1\" class=\"dataframe\">\n",
       "  <thead>\n",
       "    <tr style=\"text-align: right;\">\n",
       "      <th></th>\n",
       "      <th>label</th>\n",
       "      <th>text</th>\n",
       "    </tr>\n",
       "  </thead>\n",
       "  <tbody>\n",
       "    <tr>\n",
       "      <th>0</th>\n",
       "      <td>議院運営委員会</td>\n",
       "      <td>会議 開く\\nまず 庶務 小 委員長 報告 発言 求める られる おる 許す\\n石田真敏 君...</td>\n",
       "    </tr>\n",
       "    <tr>\n",
       "      <th>1</th>\n",
       "      <td>財務金融委員会</td>\n",
       "      <td>会議 開く\\n内閣 提出 所得税法 一部 改正 する 法律案 議題 いたす\\n諮る いたす\\...</td>\n",
       "    </tr>\n",
       "    <tr>\n",
       "      <th>2</th>\n",
       "      <td>内閣委員会</td>\n",
       "      <td>会議 開く\\n内閣 提出 特定 複合 観光施設 区域 整備 法案 議題 いたす\\n諮る いた...</td>\n",
       "    </tr>\n",
       "    <tr>\n",
       "      <th>3</th>\n",
       "      <td>文部科学委員会</td>\n",
       "      <td>会議 開く\\n内閣 提出 文化財保護法 地方教育行政の組織及び運営に関する法律 一部 改正 ...</td>\n",
       "    </tr>\n",
       "    <tr>\n",
       "      <th>4</th>\n",
       "      <td>安全保障委員会</td>\n",
       "      <td>会議 開く\\n安全保障 件 特に イラク 派遣 日報 調査 進める\\n防衛大臣 報告 聴取 ...</td>\n",
       "    </tr>\n",
       "  </tbody>\n",
       "</table>\n",
       "</div>"
      ],
      "text/plain": [
       "     label                                               text\n",
       "0  議院運営委員会  会議 開く\\nまず 庶務 小 委員長 報告 発言 求める られる おる 許す\\n石田真敏 君...\n",
       "1  財務金融委員会  会議 開く\\n内閣 提出 所得税法 一部 改正 する 法律案 議題 いたす\\n諮る いたす\\...\n",
       "2    内閣委員会  会議 開く\\n内閣 提出 特定 複合 観光施設 区域 整備 法案 議題 いたす\\n諮る いた...\n",
       "3  文部科学委員会  会議 開く\\n内閣 提出 文化財保護法 地方教育行政の組織及び運営に関する法律 一部 改正 ...\n",
       "4  安全保障委員会  会議 開く\\n安全保障 件 特に イラク 派遣 日報 調査 進める\\n防衛大臣 報告 聴取 ..."
      ]
     },
     "metadata": {},
     "output_type": "display_data"
    },
    {
     "data": {
      "text/plain": [
       "議院運営委員会      124\n",
       "本会議          105\n",
       "厚生労働委員会       81\n",
       "内閣委員会         76\n",
       "農林水産委員会       69\n",
       "法務委員会         63\n",
       "国土交通委員会       56\n",
       "予算委員会         55\n",
       "経済産業委員会       38\n",
       "総務委員会         36\n",
       "環境委員会         32\n",
       "文部科学委員会       26\n",
       "外務委員会         22\n",
       "財務金融委員会       20\n",
       "安全保障委員会       14\n",
       "決算行政監視委員会      5\n",
       "Name: label, dtype: int64"
      ]
     },
     "metadata": {},
     "output_type": "display_data"
    }
   ],
   "source": [
    "df_train = pd.DataFrame(train_data, columns=['label', 'text'])\n",
    "df_test = pd.DataFrame(test_data, columns=['label', 'text'])\n",
    "\n",
    "print('train_data')\n",
    "display(df_train.head())\n",
    "display(df_train['label'].value_counts())\n",
    "print()\n",
    "print('test_data')\n",
    "display(df_test.head())\n",
    "display(df_test['label'].value_counts())"
   ]
  },
  {
   "cell_type": "code",
   "execution_count": 4,
   "metadata": {},
   "outputs": [
    {
     "name": "stdout",
     "output_type": "stream",
     "text": [
      "[ 3155  7644   436 ... 17218   199  1560]\n"
     ]
    },
    {
     "data": {
      "text/plain": [
       "{'sample_num': 7443,\n",
       " 'min_len': 2,\n",
       " '1Q_len': 519.5,\n",
       " '2Q_len': 7409.0,\n",
       " '3Q_len': 13863.0,\n",
       " 'max_len': 215185,\n",
       " 'average': 9469.426306596803}"
      ]
     },
     "execution_count": 4,
     "metadata": {},
     "output_type": "execute_result"
    }
   ],
   "source": [
    "train_ms = MeasurementStatistics(train_data)\n",
    "train_ms.word_count()\n",
    "train_ms.percent_point()"
   ]
  },
  {
   "cell_type": "code",
   "execution_count": 5,
   "metadata": {},
   "outputs": [
    {
     "name": "stdout",
     "output_type": "stream",
     "text": [
      "Invalid num_words. Compute vocab size with x_train.\n",
      "Finish to compute vocab size.\n",
      "Vocab size: 143585\n",
      "Start to texts to sequences\n",
      "Train to tokenize.\n",
      "Finish to train to tokenize.\n",
      "Start to texts to sequences.\n",
      "Finish to texts to sequences.\n"
     ]
    }
   ],
   "source": [
    "pc = PreprocessCNN(train_data,test_data)\n",
    "x_train, y_train, x_test, y_test = pc.data_preprocessing(sep='[ \\n]', increasing_mode=False, padding_size=256)"
   ]
  },
  {
   "cell_type": "code",
   "execution_count": 6,
   "metadata": {},
   "outputs": [
    {
     "data": {
      "application/vnd.jupyter.widget-view+json": {
       "model_id": "b03a85575f12484b8f09a49ca680b94a",
       "version_major": 2,
       "version_minor": 0
      },
      "text/plain": [
       "HBox(children=(IntProgress(value=0, max=7443), HTML(value='')))"
      ]
     },
     "metadata": {},
     "output_type": "display_data"
    },
    {
     "name": "stdout",
     "output_type": "stream",
     "text": [
      "\n"
     ]
    },
    {
     "data": {
      "application/vnd.jupyter.widget-view+json": {
       "model_id": "ae3aafff8340494eb10964818dc3c68b",
       "version_major": 2,
       "version_minor": 0
      },
      "text/plain": [
       "HBox(children=(IntProgress(value=0, max=822), HTML(value='')))"
      ]
     },
     "metadata": {},
     "output_type": "display_data"
    },
    {
     "name": "stdout",
     "output_type": "stream",
     "text": [
      "\n"
     ]
    },
    {
     "data": {
      "text/plain": [
       "array([ 0,  2, 15, ...,  8,  3, 15])"
      ]
     },
     "execution_count": 6,
     "metadata": {},
     "output_type": "execute_result"
    }
   ],
   "source": [
    "classify_dict = {'本会議':0, '内閣委員会':1, '総務委員会':2, '法務委員会':3, '外務委員会':4, '財務金融委員会':5, '文部科学委員会':6, '厚生労働委員会':7, '農林水産委員会':8, \\\n",
    "                '経済産業委員会':9, '国土交通委員会':10, '環境委員会':11, '安全保障委員会':12, '予算委員会':13, '決算行政監視委員会':14, '議院運営委員会':15}\n",
    "classify_size = len(classify_dict)\n",
    "y_train = np.array([classify_dict[x] for x in tqdm_notebook(y_train)])\n",
    "y_test = np.array([classify_dict[x] for x in tqdm_notebook(y_test)])\n",
    "\n",
    "y_train"
   ]
  },
  {
   "cell_type": "code",
   "execution_count": 7,
   "metadata": {},
   "outputs": [
    {
     "data": {
      "text/plain": [
       "{0: 1.069035532994924,\n",
       " 1: 2.2404255319148936,\n",
       " 2: 1.983050847457627,\n",
       " 3: 2.032818532818533,\n",
       " 4: 4.943661971830986,\n",
       " 5: 3.943820224719101,\n",
       " 6: 5.014285714285715,\n",
       " 7: 1.6350931677018632,\n",
       " 8: 2.4431554524361947,\n",
       " 9: 2.207547169811321,\n",
       " 10: 2.0851485148514852,\n",
       " 11: 2.9008264462809916,\n",
       " 12: 8.491935483870968,\n",
       " 13: 1.873665480427046,\n",
       " 14: 11.700000000000001,\n",
       " 15: 1.0}"
      ]
     },
     "execution_count": 7,
     "metadata": {},
     "output_type": "execute_result"
    }
   ],
   "source": [
    "labels = np.arange(16)\n",
    "cost_weight = np.zeros((16))\n",
    "for label in labels:\n",
    "    cnt = np.sum(y_train==label)\n",
    "    cost_weight[label] = cnt\n",
    "\n",
    "max_cnt = np.max(cost_weight)\n",
    "cost_weight= np.reciprocal(cost_weight) * max_cnt\n",
    "cost_weight = {int(label):cost_weight[label] for label in labels}\n",
    "cost_weight"
   ]
  },
  {
   "cell_type": "code",
   "execution_count": 8,
   "metadata": {},
   "outputs": [
    {
     "data": {
      "application/vnd.jupyter.widget-view+json": {
       "model_id": "b180b7f82a7b48beb5ab7c0d6fa7e5e2",
       "version_major": 2,
       "version_minor": 0
      },
      "text/plain": [
       "HBox(children=(IntProgress(value=0, max=7443), HTML(value='')))"
      ]
     },
     "metadata": {},
     "output_type": "display_data"
    },
    {
     "name": "stdout",
     "output_type": "stream",
     "text": [
      "\n"
     ]
    },
    {
     "data": {
      "application/vnd.jupyter.widget-view+json": {
       "model_id": "cf8825d1b5164ea8b5414d758d3b6a9e",
       "version_major": 2,
       "version_minor": 0
      },
      "text/plain": [
       "HBox(children=(IntProgress(value=0, max=822), HTML(value='')))"
      ]
     },
     "metadata": {},
     "output_type": "display_data"
    },
    {
     "name": "stdout",
     "output_type": "stream",
     "text": [
      "\n"
     ]
    }
   ],
   "source": [
    "classify_size = len(classify_dict)\n",
    "y_train = np.array([label_to_one_hot(classify_size, x) for x in tqdm_notebook(y_train)])\n",
    "y_test = np.array([label_to_one_hot(classify_size ,x) for x in tqdm_notebook(y_test)])"
   ]
  },
  {
   "cell_type": "code",
   "execution_count": 9,
   "metadata": {},
   "outputs": [
    {
     "data": {
      "text/plain": [
       "array([[1, 0, 0, ..., 0, 0, 0],\n",
       "       [0, 0, 1, ..., 0, 0, 0],\n",
       "       [0, 0, 0, ..., 0, 0, 1],\n",
       "       ...,\n",
       "       [0, 0, 0, ..., 0, 0, 0],\n",
       "       [0, 0, 0, ..., 0, 0, 0],\n",
       "       [0, 0, 0, ..., 0, 0, 1]])"
      ]
     },
     "execution_count": 9,
     "metadata": {},
     "output_type": "execute_result"
    }
   ],
   "source": [
    "y_train"
   ]
  },
  {
   "cell_type": "code",
   "execution_count": 10,
   "metadata": {},
   "outputs": [],
   "source": [
    "with open('train_data.pickle', 'wb') as wb:\n",
    "    pickle.dump((x_train, y_train), wb)\n",
    "    \n",
    "with open('test_data.pickle', 'wb') as wb:\n",
    "    pickle.dump((x_test, y_test), wb)\n",
    "    \n",
    "with open('cost_weight.pickle', 'wb') as wb:\n",
    "    pickle.dump(cost_weight, wb)"
   ]
  },
  {
   "cell_type": "code",
   "execution_count": null,
   "metadata": {},
   "outputs": [],
   "source": []
  }
 ],
 "metadata": {
  "kernelspec": {
   "display_name": "Python 3",
   "language": "python",
   "name": "python3"
  },
  "language_info": {
   "codemirror_mode": {
    "name": "ipython",
    "version": 3
   },
   "file_extension": ".py",
   "mimetype": "text/x-python",
   "name": "python",
   "nbconvert_exporter": "python",
   "pygments_lexer": "ipython3",
   "version": "3.6.5"
  }
 },
 "nbformat": 4,
 "nbformat_minor": 2
}
